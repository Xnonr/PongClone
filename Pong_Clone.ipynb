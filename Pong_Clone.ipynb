{
 "cells": [
  {
   "cell_type": "code",
   "execution_count": 1,
   "metadata": {},
   "outputs": [],
   "source": [
    "#Base upon the 'Python Game Tutorial: Pong' video tutorial by freeCodeCamp.org"
   ]
  },
  {
   "cell_type": "code",
   "execution_count": 2,
   "metadata": {},
   "outputs": [],
   "source": [
    "import turtle #Used for simple games in python"
   ]
  },
  {
   "cell_type": "code",
   "execution_count": 3,
   "metadata": {},
   "outputs": [],
   "source": [
    "#Generates the game window\n",
    "gameWindow = turtle.Screen()\n",
    "gameWindow.title('Pong Clone by Maxence Brette') #Title\n",
    "gameWindow.bgcolor('black') #Background color\n",
    "gameWindow.setup(width = 800, height = 600) #Screen size\n",
    "gameWindow.tracer(0) #Prevents automatic updates"
   ]
  },
  {
   "cell_type": "code",
   "execution_count": 4,
   "metadata": {},
   "outputs": [],
   "source": [
    "#Generate Playing Field Divider\n",
    "\n",
    "centerLine = turtle.Turtle()\n",
    "centerLine.speed(0)\n",
    "centerLine.shape('square')\n",
    "centerLine.shapesize(stretch_wid = 30, stretch_len = 0.1)\n",
    "centerLine.color('white')\n",
    "centerLine.penup()\n",
    "centerLine.goto(0, 0)"
   ]
  },
  {
   "cell_type": "code",
   "execution_count": 5,
   "metadata": {},
   "outputs": [],
   "source": [
    "#Generates the paddles\n",
    "\n",
    "#Left Paddle A\n",
    "paddleA = turtle.Turtle()\n",
    "paddleA.speed(0) #Animation speed set to maximum value\n",
    "paddleA.shape('square')\n",
    "paddleA.shapesize(stretch_wid = 5, stretch_len = 1)\n",
    "paddleA.color('white')\n",
    "paddleA.penup()\n",
    "paddleA.goto(-350, 0) #Starting position on the left side of the screen\n",
    "\n",
    "#Right Paddle B\n",
    "paddleB = turtle.Turtle()\n",
    "paddleB.speed(0)\n",
    "paddleB.shape('square')\n",
    "paddleB.shapesize(stretch_wid = 5, stretch_len = 1)\n",
    "paddleB.color('white')\n",
    "paddleB.penup()\n",
    "paddleB.goto(350, 0) #Starting position on the right side of the screen"
   ]
  },
  {
   "cell_type": "code",
   "execution_count": 6,
   "metadata": {},
   "outputs": [],
   "source": [
    "#Paddle Movements\n",
    "def paddleAUp():\n",
    "    y = paddleA.ycor()\n",
    "    if (y + 50 <= 300):\n",
    "        y += 30\n",
    "        paddleA.sety(y)\n",
    "    \n",
    "def paddleADown():\n",
    "    y = paddleA.ycor()\n",
    "    if (y - 50 >= -300):\n",
    "        y -= 30\n",
    "        paddleA.sety(y)\n",
    "    \n",
    "def paddleBUp():\n",
    "    y = paddleB.ycor()\n",
    "    if (y + 50 <= 300):\n",
    "        y += 30\n",
    "        paddleB.sety(y)\n",
    "    \n",
    "def paddleBDown():\n",
    "    y = paddleB.ycor()\n",
    "    if (y - 50 >= -300):\n",
    "        y -= 30\n",
    "        paddleB.sety(y)"
   ]
  },
  {
   "cell_type": "code",
   "execution_count": 7,
   "metadata": {},
   "outputs": [],
   "source": [
    "#Generates the ball\n",
    "\n",
    "#Ball\n",
    "ball = turtle.Turtle()\n",
    "ball.speed(0)\n",
    "ball.shape('square')\n",
    "ball.color('white')\n",
    "ball.penup()\n",
    "ball.goto(0, 0) #Starting position at the center of the screen"
   ]
  },
  {
   "cell_type": "code",
   "execution_count": 8,
   "metadata": {},
   "outputs": [],
   "source": [
    "#Ball Movements\n",
    "ball.dx = 1 #Moves on the x-axis by +2 pixels\n",
    "ball.dy = 1 #Moves on the y-axis by +2 pixels"
   ]
  },
  {
   "cell_type": "code",
   "execution_count": 9,
   "metadata": {},
   "outputs": [],
   "source": [
    "#Scoreboard & Scoring\n",
    "\n",
    "#Starting Scores\n",
    "score1 = 0\n",
    "score2 = 0\n",
    "\n",
    "#Scoreboard\n",
    "sb = turtle.Turtle()\n",
    "sb.speed(0)\n",
    "sb.color('white')\n",
    "sb.penup()\n",
    "sb.hideturtle()\n",
    "sb.goto(0, 260)\n",
    "sb.write('Player 1: 0  Player 2: 0', align = 'center', font = ('Courier', 24, 'normal'))"
   ]
  },
  {
   "cell_type": "code",
   "execution_count": 10,
   "metadata": {},
   "outputs": [],
   "source": [
    "#Instructions\n",
    "controls = turtle.Turtle()\n",
    "controls.speed(0)\n",
    "controls.color('white')\n",
    "controls.penup()\n",
    "controls.hideturtle()\n",
    "controls.goto(0, 250)\n",
    "controls.write('Up: \"w\" Down: \"q\"    Up: \"\\u2191\" Down: \"\\u2193\"', \n",
    "               align = 'center', font = ('Courier', 10, 'normal'))"
   ]
  },
  {
   "cell_type": "code",
   "execution_count": 11,
   "metadata": {},
   "outputs": [],
   "source": [
    "#Exit the game\n",
    "eG = turtle.Turtle()\n",
    "eG.speed(0)\n",
    "eG.color('white')\n",
    "eG.penup()\n",
    "eG.hideturtle()\n",
    "eG.goto(0, -280)\n",
    "eG.write('  To exit the game press: q', font = ('Courier', 10, 'normal'))\n",
    "\n",
    "def exitGame():\n",
    "    global running \n",
    "    running = False"
   ]
  },
  {
   "cell_type": "code",
   "execution_count": 12,
   "metadata": {},
   "outputs": [],
   "source": [
    "#Keyboard Binding\n",
    "gameWindow.listen()\n",
    "\n",
    "#Player 1\n",
    "gameWindow.onkeypress(paddleAUp, 'w')\n",
    "gameWindow.onkeypress(paddleADown, 's')\n",
    "\n",
    "#Player 2\n",
    "gameWindow.onkeypress(paddleBUp, 'Up')\n",
    "gameWindow.onkeypress(paddleBDown, 'Down')\n",
    "\n",
    "gameWindow.onkeypress(exitGame, 'q')"
   ]
  },
  {
   "cell_type": "code",
   "execution_count": 13,
   "metadata": {},
   "outputs": [],
   "source": [
    "#Main Menu"
   ]
  },
  {
   "cell_type": "code",
   "execution_count": 14,
   "metadata": {},
   "outputs": [],
   "source": [
    "#Main Game Loop\n",
    "\n",
    "running = True\n",
    "\n",
    "while (running):\n",
    "    #Move the ball\n",
    "    ball.setx(ball.xcor() + ball.dx)\n",
    "    ball.sety(ball.ycor() + ball.dy)\n",
    "    \n",
    "    #Screen Border Checking\n",
    "    \n",
    "    #Top Screen Border\n",
    "    if (ball.ycor() > 290):\n",
    "        ball.sety(290)\n",
    "        ball.dy *= -1 #Reverses the direction of the ball, allowing it to 'bounce' off the top\n",
    "        #os.system('afplay sound.wav&') # '&' to avoid delay in animation whilst playing\n",
    "    \n",
    "    #Bottom Screen Border\n",
    "    if (ball.ycor() < -290):\n",
    "        ball.sety(-290)\n",
    "        ball.dy *= -1 #Reverses the direction of the ball, allowing it to 'bounce' off the bottom\n",
    "    \n",
    "    #Right Screen Border\n",
    "    if (ball.xcor() > 390):\n",
    "        ball.goto(0, 0) #Resets the ball to the center of the screen\n",
    "        ball.dx *= -1 #Reverses the direction of the ball, serving it towards the scoring player\n",
    "        score1 += 1\n",
    "        sb.clear()\n",
    "        sb.write('Player 1: {}  Player 2: {}'.format(score1, score2), \n",
    "                 align = 'center', font = ('Courier', 24, 'normal'))\n",
    "        \n",
    "    #Left Screen Border\n",
    "    if (ball.xcor() < -390):\n",
    "        ball.goto(0, 0)\n",
    "        ball.dx *= -1\n",
    "        score2 += 1\n",
    "        sb.clear()\n",
    "        sb.write('Player 1: {}  Player 2: {}'.format(score1, score2), \n",
    "                 align = 'center', font = ('Courier', 24, 'normal'))\n",
    "    \n",
    "    #Paddle & Ball Collisions\n",
    "    \n",
    "    #Right Paddle\n",
    "    if ((ball.xcor() > 340) and (ball.xcor() < 350) and\n",
    "        ((ball.ycor() < paddleB.ycor() + 50) and (ball.ycor() > paddleB.ycor() - 50))):\n",
    "        ball.setx(340)\n",
    "        ball.dx *= -1\n",
    "        \n",
    "    #Left Paddle\n",
    "    if ((ball.xcor() < -340) and (ball.xcor() > -350) and\n",
    "        ((ball.ycor() < paddleA.ycor() + 50) and (ball.ycor() > paddleA.ycor() - 50))):\n",
    "        ball.setx(-340)\n",
    "        ball.dx *= -1\n",
    "    \n",
    "    gameWindow.update()"
   ]
  },
  {
   "cell_type": "code",
   "execution_count": 15,
   "metadata": {},
   "outputs": [],
   "source": [
    "turtle.done()"
   ]
  },
  {
   "cell_type": "code",
   "execution_count": null,
   "metadata": {},
   "outputs": [],
   "source": []
  }
 ],
 "metadata": {
  "kernelspec": {
   "display_name": "Python 3",
   "language": "python",
   "name": "python3"
  },
  "language_info": {
   "codemirror_mode": {
    "name": "ipython",
    "version": 3
   },
   "file_extension": ".py",
   "mimetype": "text/x-python",
   "name": "python",
   "nbconvert_exporter": "python",
   "pygments_lexer": "ipython3",
   "version": "3.7.4"
  }
 },
 "nbformat": 4,
 "nbformat_minor": 2
}
