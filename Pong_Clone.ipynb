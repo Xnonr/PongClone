{
 "cells": [
  {
   "cell_type": "code",
   "execution_count": 1,
   "metadata": {},
   "outputs": [],
   "source": [
    "#Orginally based upon the 'Python Game Tutorial: Pong' video tutorial by freeCodeCamp.org"
   ]
  },
  {
   "cell_type": "code",
   "execution_count": 2,
   "metadata": {},
   "outputs": [],
   "source": [
    "import turtle #Used for simple games in python"
   ]
  },
  {
   "cell_type": "code",
   "execution_count": 3,
   "metadata": {},
   "outputs": [],
   "source": [
    "#Generates the game window\n",
    "def genGameWindow():\n",
    "    gameWindow = turtle.Screen()\n",
    "    gameWindow.title('Pong Clone by Maxence Brette') #Title\n",
    "    gameWindow.bgcolor('black') #Background color\n",
    "    gameWindow.setup(width = 800, height = 600) #Screen size\n",
    "    gameWindow.tracer(0) #Prevents automatic updates\n",
    "    \n",
    "    return gameWindow"
   ]
  },
  {
   "cell_type": "code",
   "execution_count": 4,
   "metadata": {},
   "outputs": [],
   "source": [
    "#Generates interactive game objects\n",
    "def genObject(speed, shape, stretchW, stretchL, color, startX, startY):\n",
    "    gameObject = turtle.Turtle()\n",
    "    gameObject.speed(speed) #Animation Speed\n",
    "    gameObject.shape(shape)\n",
    "    gameObject.shapesize(stretch_wid = stretchW, stretch_len = stretchL)\n",
    "    gameObject.color(color)\n",
    "    gameObject.penup()\n",
    "    gameObject.goto(startX, startY) #Starting Position\n",
    "    \n",
    "    return gameObject"
   ]
  },
  {
   "cell_type": "code",
   "execution_count": 5,
   "metadata": {},
   "outputs": [],
   "source": [
    "#Generates in game text\n",
    "def genText(speed, color, xCor, yCor, text, alignment, textFont):\n",
    "    gameText = turtle.Turtle()\n",
    "    gameText.speed(speed)\n",
    "    gameText.color(color)\n",
    "    gameText.penup()\n",
    "    gameText.hideturtle()\n",
    "    gameText.goto(xCor, yCor)\n",
    "    gameText.write(text, align = alignment, font = textFont)\n",
    "    \n",
    "    return gameText"
   ]
  },
  {
   "cell_type": "code",
   "execution_count": 6,
   "metadata": {},
   "outputs": [],
   "source": [
    "#Determines Paddle Movements\n",
    "#Currently not working due to some strage interaction with onkeypress method\n",
    "def paddleMovement(tappedKey):\n",
    "    if (tappedKey == 'w' or tappedKey == 's'):\n",
    "        global paddleA\n",
    "        y = paddleA.ycor()\n",
    "        \n",
    "        if (tappedKey == 'w'):\n",
    "            y += 50\n",
    "        else:\n",
    "            y -= 50\n",
    "        \n",
    "        paddleA.sety(y)\n",
    "    \n",
    "    if (tappedKey == 'Up' or tappedKey == 'Down'):\n",
    "        global paddleB\n",
    "        y = paddleB.ycor()\n",
    "        \n",
    "        if (tappedKey == 'Up'):\n",
    "            y += 50\n",
    "        else:\n",
    "            y -= 50\n",
    "        \n",
    "        paddleB.sety(y)\n",
    "        \n",
    "def paddleAUp():\n",
    "    y = paddleA.ycor()\n",
    "    if (y + 50 <= 300):\n",
    "        y += 50\n",
    "        paddleA.sety(y)\n",
    "    \n",
    "def paddleADown():\n",
    "    y = paddleA.ycor()\n",
    "    if (y - 50 >= -300):\n",
    "        y -= 50\n",
    "        paddleA.sety(y)\n",
    "    \n",
    "def paddleBUp():\n",
    "    y = paddleB.ycor()\n",
    "    if (y + 50 <= 300):\n",
    "        y += 50\n",
    "        paddleB.sety(y)\n",
    "    \n",
    "def paddleBDown():\n",
    "    y = paddleB.ycor()\n",
    "    if (y - 50 >= -300):\n",
    "        y -= 50\n",
    "        paddleB.sety(y)"
   ]
  },
  {
   "cell_type": "code",
   "execution_count": 7,
   "metadata": {},
   "outputs": [],
   "source": [
    "#Determines Ball Movement Speed\n",
    "def setBallSpeed(speed):\n",
    "    ball.dx = speed #Movement on x-axis\n",
    "    ball.dy = speed #Movement on y-axis"
   ]
  },
  {
   "cell_type": "code",
   "execution_count": 8,
   "metadata": {},
   "outputs": [],
   "source": [
    "#Makes the ball move\n",
    "def moveBall():\n",
    "    global ball\n",
    "    ball.setx(ball.xcor() + ball.dx)\n",
    "    ball.sety(ball.ycor() + ball.dy)"
   ]
  },
  {
   "cell_type": "code",
   "execution_count": 9,
   "metadata": {},
   "outputs": [],
   "source": [
    "#Screen Border Checking\n",
    "def borderChecking():\n",
    "    global ball\n",
    "    global score1\n",
    "    global score2\n",
    "    \n",
    "    yCorBall = ball.ycor()\n",
    "    xCorBall = ball.xcor()\n",
    "    \n",
    "    if (yCorBall > 290 or yCorBall < -290):\n",
    "        if (yCorBall > 290): #Top Screen Border\n",
    "            ball.sety(290)\n",
    "\n",
    "        if (yCorBall < -290): #Bottom Screen Border\n",
    "            ball.sety(-290)\n",
    "        \n",
    "        ball.dy *= -1\n",
    "    \n",
    "    if (xCorBall > 390 or xCorBall < -390):\n",
    "        if (xCorBall > 390): #Right Screen Border\n",
    "            ball.setx(390)\n",
    "            score1 += 1\n",
    "\n",
    "        if (xCorBall < -390): #Left Screen Border\n",
    "            ball.setx(-390)\n",
    "            score2 += 1\n",
    "        \n",
    "        ball.goto(0, 0)\n",
    "        ball.dx *= -1\n",
    "        sb.clear()\n",
    "        sb.write('Player 1: {}  Player 2: {}'.format(score1, score2), \n",
    "                 align = 'center', font = ('Courier', 24, 'normal'))"
   ]
  },
  {
   "cell_type": "code",
   "execution_count": 10,
   "metadata": {},
   "outputs": [],
   "source": [
    "#Determines Paddle & Ball Collisions\n",
    "def paddleBallCollision():\n",
    "    global ball\n",
    "    yCorBall = ball.ycor()\n",
    "    xCorBall = ball.xcor()\n",
    "    \n",
    "    #Right Paddle\n",
    "    if ((xCorBall > 340) and (xCorBall < 350) and\n",
    "        ((yCorBall < paddleB.ycor() + 50) and (yCorBall > paddleB.ycor() - 50))):\n",
    "        ball.setx(340)\n",
    "        ball.dx *= -1\n",
    "        \n",
    "    #Left Paddle\n",
    "    if ((xCorBall < -340) and (xCorBall > -350) and\n",
    "        ((yCorBall < paddleA.ycor() + 50) and (yCorBall > paddleA.ycor() - 50))):\n",
    "        ball.setx(-340)\n",
    "        ball.dx *= -1"
   ]
  },
  {
   "cell_type": "code",
   "execution_count": 11,
   "metadata": {},
   "outputs": [],
   "source": [
    "#Allows players to end and quit the game without errors\n",
    "def exitGame():\n",
    "    global running \n",
    "    running = False"
   ]
  },
  {
   "cell_type": "code",
   "execution_count": 12,
   "metadata": {},
   "outputs": [],
   "source": [
    "def opponentAI():\n",
    "    global ball\n",
    "    global paddleB\n",
    "    \n",
    "    if (ball.ycor() > (paddleB.ycor() + 50)):\n",
    "        paddleBUp()\n",
    "    \n",
    "    if (ball.ycor() < (paddleB.ycor() - 50)):\n",
    "        paddleBDown()"
   ]
  },
  {
   "cell_type": "code",
   "execution_count": 13,
   "metadata": {},
   "outputs": [],
   "source": [
    "#Initiates the game environment\n",
    "gameWindow = genGameWindow()\n",
    "running = True"
   ]
  },
  {
   "cell_type": "code",
   "execution_count": 14,
   "metadata": {},
   "outputs": [],
   "source": [
    "#Main Menu\n",
    "playerCount = genText(0, 'white', 0, 0, 'How many players?\\nPress: \"1\" or \"2\"', \n",
    "                      'center', ('Courier', 24, 'normal'))\n",
    "\n",
    "numPlayers = gameWindow.numinput('PlayerCountSelection', 'How many players? ', 1, minval = 1, maxval = 2)\n",
    "playerCount.clear()"
   ]
  },
  {
   "cell_type": "code",
   "execution_count": 15,
   "metadata": {},
   "outputs": [],
   "source": [
    "#Sets up the game environment    \n",
    "#Generates the Playing Field Divider\n",
    "playingFieldDivider = genObject(0, 'square', 30, 0.1, 'white', 0, 0)\n",
    "\n",
    "\n",
    "#Generates the Paddles\n",
    "#Left Paddle A\n",
    "paddleA = genObject(0, 'square', 5, 1, 'white', -350, 0)\n",
    "\n",
    "#Right Paddle B\n",
    "paddleB = genObject(0, 'square', 5, 1, 'white', 350, 0)\n",
    "\n",
    "\n",
    "#Generates the Ball\n",
    "#Ball\n",
    "ball = genObject(0, 'square', 1, 1, 'white', 0, 0)\n",
    "setBallSpeed(1.5)\n",
    "\n",
    "\n",
    "#Scoreboard & Scoring\n",
    "#Starting Scores\n",
    "score1 = 0\n",
    "score2 = 0\n",
    "\n",
    "#Scoreboard\n",
    "sb = genText(0, 'white', 0, 260, 'Player 1: {}  Player 2: {}'.format(score1, score2), \n",
    "             'center', ('Courier', 24, 'normal'))\n",
    "\n",
    "#Player Controls Instructions\n",
    "controls = genText(0, 'white', 0, 250, 'Up: \"w\" Down: \"q\"    Up: \"\\u2191\" Down: \"\\u2193\"', \n",
    "                   'center', ('Courier', 10, 'normal'))\n",
    "\n",
    "#Exiting the Game Instructions\n",
    "exitInstructions = genText(0, 'white', 0, -280, '  To exit the game press: \"q\"', \n",
    "                           'left', ('Courier', 10, 'normal'))"
   ]
  },
  {
   "cell_type": "code",
   "execution_count": 16,
   "metadata": {},
   "outputs": [],
   "source": [
    "#Keyboard Binding\n",
    "gameWindow.listen()\n",
    "\n",
    "#Player 1\n",
    "gameWindow.onkeypress(paddleAUp, 'w')\n",
    "gameWindow.onkeypress(paddleADown, 's')\n",
    "#gameWindow.onkeypress(paddleMovement('w') 'w')\n",
    "#gameWindow.onkeypress(paddleMovement('s'), 's')\n",
    "\n",
    "#Player 2\n",
    "if (numPlayers == 2):\n",
    "    gameWindow.onkeypress(paddleBUp, 'Up')\n",
    "    gameWindow.onkeypress(paddleBDown, 'Down')\n",
    "#gameWindow.onkeypress(paddleMovement('Up'), 'Up')\n",
    "#gameWindow.onkeypress(paddleMovement('Down'), 'Down')\n",
    "\n",
    "\n",
    "#Stop the games executing and exit\n",
    "gameWindow.onkeypress(exitGame, 'q')"
   ]
  },
  {
   "cell_type": "code",
   "execution_count": 17,
   "metadata": {},
   "outputs": [],
   "source": [
    "#Main Game Loop\n",
    "while (running):\n",
    "    moveBall()\n",
    "    borderChecking()\n",
    "    paddleBallCollision()\n",
    "    \n",
    "    if (numPlayers == 1):\n",
    "        opponentAI()\n",
    "    \n",
    "    gameWindow.update()"
   ]
  },
  {
   "cell_type": "code",
   "execution_count": 18,
   "metadata": {},
   "outputs": [],
   "source": [
    "turtle.done()"
   ]
  }
 ],
 "metadata": {
  "kernelspec": {
   "display_name": "Python 3",
   "language": "python",
   "name": "python3"
  },
  "language_info": {
   "codemirror_mode": {
    "name": "ipython",
    "version": 3
   },
   "file_extension": ".py",
   "mimetype": "text/x-python",
   "name": "python",
   "nbconvert_exporter": "python",
   "pygments_lexer": "ipython3",
   "version": "3.7.4"
  }
 },
 "nbformat": 4,
 "nbformat_minor": 2
}
